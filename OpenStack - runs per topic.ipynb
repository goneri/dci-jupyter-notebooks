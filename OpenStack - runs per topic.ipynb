{
 "cells": [
  {
   "cell_type": "code",
   "execution_count": null,
   "metadata": {
    "hide_input": false
   },
   "outputs": [],
   "source": [
    "import dciclient.oo\n",
    "from datetime import datetime\n",
    "client = dciclient.oo.DCIClient()"
   ]
  },
  {
   "cell_type": "code",
   "execution_count": null,
   "metadata": {},
   "outputs": [],
   "source": [
    "openstack_team = client.teams.first(where='name:OpenStack')"
   ]
  },
  {
   "cell_type": "code",
   "execution_count": null,
   "metadata": {
    "hide_input": false
   },
   "outputs": [],
   "source": [
    "topics = ['OSP8', 'OSP9', 'OSP10', 'OSP11', 'OSP12', 'OSP13', 'OSP14']\n",
    "cpt = {k: [0] for k in topics}\n",
    "months = [datetime(2016, 2, 1)]"
   ]
  },
  {
   "cell_type": "code",
   "execution_count": null,
   "metadata": {},
   "outputs": [],
   "source": [
    "for job in client.jobs.list(sort=\"created_at\"):\n",
    "    if openstack_team.id() != job.team.parent_id():\n",
    "        continue\n",
    "    if not job.topic.name().startswith('OSP'):\n",
    "        continue\n",
    "    if months[-1].year != job.created_at().year or months[-1].month != job.created_at().month:\n",
    "        month = datetime(job.created_at().year, job.created_at().month, 1)\n",
    "        months.append(month)\n",
    "        for topic in topics:\n",
    "            cpt[topic].append(0)\n",
    "    cpt[job.topic.name()][-1] += 1\n",
    "\n"
   ]
  },
  {
   "cell_type": "code",
   "execution_count": null,
   "metadata": {},
   "outputs": [],
   "source": [
    "%matplotlib notebook\n",
    "import matplotlib.pyplot as plt\n",
    "plt.figure(figsize=(9,9))\n",
    "for topic in topics:\n",
    "    plt.plot_date(months, cpt[topic], '.-', label=topic)\n",
    "plt.xlabel('Month')\n",
    "plt.ylabel('Number of runs')\n",
    "plt.title('DCI runs per month')\n",
    "plt.legend()\n",
    "plt.show()"
   ]
  },
  {
   "cell_type": "code",
   "execution_count": null,
   "metadata": {},
   "outputs": [],
   "source": []
  }
 ],
 "metadata": {
  "hide_input": false,
  "kernelspec": {
   "display_name": "Python 3",
   "language": "python",
   "name": "python3"
  },
  "language_info": {
   "codemirror_mode": {
    "name": "ipython",
    "version": 3
   },
   "file_extension": ".py",
   "mimetype": "text/x-python",
   "name": "python",
   "nbconvert_exporter": "python",
   "pygments_lexer": "ipython3",
   "version": "3.6.6"
  }
 },
 "nbformat": 4,
 "nbformat_minor": 2
}
