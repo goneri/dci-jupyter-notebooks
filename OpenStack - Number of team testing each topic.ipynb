{
 "cells": [
  {
   "cell_type": "code",
   "execution_count": null,
   "metadata": {},
   "outputs": [],
   "source": [
    "import pandas as pd\n",
    "from dateutil.relativedelta import relativedelta\n",
    "\n",
    "import dci_lite.client\n",
    "from datetime import datetime\n",
    "client = dci_lite.client.DCIClient()"
   ]
  },
  {
   "cell_type": "code",
   "execution_count": null,
   "metadata": {},
   "outputs": [],
   "source": [
    "def list_teams(topic):\n",
    "    team_dict = {}\n",
    "    for job in client.jobs.list(sort=\"-created_at\", where=\"topic_id:%s\" % topic.id()):\n",
    "        if job.team.external() is False:\n",
    "            continue\n",
    "        if job.created_at() < pd.datetime.today() - relativedelta(months=6):\n",
    "            break\n",
    "        team_dict[job.team.name()] = 1\n",
    "    teams = list(team_dict.keys())\n",
    "    teams.sort()\n",
    "    return teams"
   ]
  },
  {
   "cell_type": "code",
   "execution_count": null,
   "metadata": {},
   "outputs": [],
   "source": [
    "for topic in ['OSP8', 'OSP9', 'OSP10', 'OSP11', 'OSP12', 'OSP13', 'OSP14']:\n",
    "    teams = list_teams(client.topics.first(where='name:%s' % topic))\n",
    "    print(\"- %s: %d teams\" % (topic, len(teams)))\n"
   ]
  },
  {
   "cell_type": "code",
   "execution_count": null,
   "metadata": {},
   "outputs": [],
   "source": []
  }
 ],
 "metadata": {
  "hide_input": false,
  "kernelspec": {
   "display_name": "Python 3",
   "language": "python",
   "name": "python3"
  },
  "language_info": {
   "codemirror_mode": {
    "name": "ipython",
    "version": 3
   },
   "file_extension": ".py",
   "mimetype": "text/x-python",
   "name": "python",
   "nbconvert_exporter": "python",
   "pygments_lexer": "ipython3",
   "version": "3.6.6"
  }
 },
 "nbformat": 4,
 "nbformat_minor": 2
}
