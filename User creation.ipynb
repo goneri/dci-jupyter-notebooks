{
 "cells": [
  {
   "cell_type": "code",
   "execution_count": null,
   "metadata": {
    "hide_input": false
   },
   "outputs": [],
   "source": [
    "import dci_orm.model\n",
    "\n",
    "dci = dci_orm.model.ORM()\n",
    "Users = dci.base.classes.users\n",
    "session = dci.session"
   ]
  },
  {
   "cell_type": "code",
   "execution_count": null,
   "metadata": {},
   "outputs": [],
   "source": [
    "values = {\"date\": [], \"all\": [], \"user with no team\": [], \"SSO user\": []}\n",
    "\n",
    "all = 0\n",
    "no_team = 0\n",
    "sso = 0\n",
    "for user in session.query(Users).order_by(Users.created_at).all():\n",
    "    all += 1\n",
    "    if not user.team_id:\n",
    "        no_team += 1\n",
    "    if user.sso_username:\n",
    "        sso += 1\n",
    "\n",
    "    values['date'].append(user.created_at)\n",
    "    values['all'].append(all)\n",
    "    values['user with no team'].append(no_team)\n",
    "    values['SSO user'].append(sso)"
   ]
  },
  {
   "cell_type": "markdown",
   "metadata": {},
   "source": [
    "# User creation"
   ]
  },
  {
   "cell_type": "code",
   "execution_count": null,
   "metadata": {
    "hide_input": false
   },
   "outputs": [],
   "source": [
    "#import libraries\n",
    "import pandas as pd\n",
    "import matplotlib.pyplot as plt\n",
    "import matplotlib.dates as mdates\n",
    "%matplotlib inline\n",
    "\n",
    "#read data from csv\n",
    "#data = pd.read_csv('data.csv', usecols=['date','count'], parse_dates=['date'])\n",
    "df = pd.DataFrame(data=values)\n",
    "#set date as index\n",
    "df.set_index('date',inplace=True)\n",
    "\n",
    "#plot data\n",
    "fig, ax = plt.subplots(figsize=(15,7))\n",
    "df.plot(ax=ax)\n",
    "\n",
    "#set ticks every week\n",
    "# ax.xaxis.set_major_locator(mdates.WedayLocator())\n",
    "#set major ticks format\n",
    "ax.xaxis.set_major_formatter(mdates.DateFormatter('%Y/%b'))\n"
   ]
  }
 ],
 "metadata": {
  "hide_input": false,
  "kernelspec": {
   "display_name": "Python 3",
   "language": "python",
   "name": "python3"
  },
  "language_info": {
   "codemirror_mode": {
    "name": "ipython",
    "version": 3
   },
   "file_extension": ".py",
   "mimetype": "text/x-python",
   "name": "python",
   "nbconvert_exporter": "python",
   "pygments_lexer": "ipython3",
   "version": "3.6.6"
  }
 },
 "nbformat": 4,
 "nbformat_minor": 2
}
