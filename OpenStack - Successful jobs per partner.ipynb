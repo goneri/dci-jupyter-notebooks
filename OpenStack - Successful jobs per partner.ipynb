{
 "cells": [
  {
   "cell_type": "code",
   "execution_count": null,
   "metadata": {
    "scrolled": true
   },
   "outputs": [],
   "source": [
    "import dci_lite.client\n",
    "from datetime import datetime\n",
    "client = dci_lite.client.DCIClient()"
   ]
  },
  {
   "cell_type": "code",
   "execution_count": null,
   "metadata": {
    "scrolled": true
   },
   "outputs": [],
   "source": [
    "openstack_team = client.teams.first(where='name:OpenStack')"
   ]
  },
  {
   "cell_type": "code",
   "execution_count": null,
   "metadata": {
    "scrolled": true
   },
   "outputs": [],
   "source": [
    "import pandas as pd\n",
    "from dateutil.relativedelta import relativedelta\n",
    "\n",
    "datelist = pd.date_range(start='2016/01/01', end=pd.datetime.today() + relativedelta(weeks=1), freq='W').tolist()\n",
    "\n",
    "month_idx = 0\n",
    "\n",
    "teams = {}\n",
    "\n",
    "for job in client.jobs.list(sort=\"created_at\", where='status:success'):\n",
    "    if not (job.team_id() and job.topic_id()):\n",
    "        continue\n",
    "    if openstack_team.id() != job.team.parent_id():\n",
    "        continue\n",
    "    if not job.status != 'success':\n",
    "        continue\n",
    "    if not job.topic.name().startswith('OSP'):\n",
    "        continue\n",
    "    if job.team.external() is False:\n",
    "        continue\n",
    "    if job.team.name() not in teams:\n",
    "        teams[job.team.name()] = [0 for _ in datelist]\n",
    "\n",
    "    while not (\n",
    "            datelist[month_idx].year == job.created_at().year and \n",
    "            datelist[month_idx].isocalendar()[1] == job.created_at().isocalendar()[1]):\n",
    "        month_idx += 1\n",
    "    teams[job.team.name()][month_idx] += 1"
   ]
  },
  {
   "cell_type": "code",
   "execution_count": null,
   "metadata": {},
   "outputs": [],
   "source": [
    "print(teams.keys())"
   ]
  },
  {
   "cell_type": "code",
   "execution_count": null,
   "metadata": {
    "scrolled": false
   },
   "outputs": [],
   "source": [
    "%matplotlib notebook\n",
    "import matplotlib.pyplot as plt\n",
    "\n",
    "team_names = teams.keys()\n",
    "sorted(team_names)\n",
    "\n",
    "for team in team_names:\n",
    "    plt.figure(figsize=(9,9))\n",
    "    plt.title(team)\n",
    "    plt.plot_date(datelist[:-1], teams[team][:-1], '-', label=team)\n",
    "    plt.xlabel('Weeks')\n",
    "    plt.ylabel('Successful runs')\n",
    "plt.show()"
   ]
  },
  {
   "cell_type": "code",
   "execution_count": null,
   "metadata": {},
   "outputs": [],
   "source": []
  }
 ],
 "metadata": {
  "hide_input": false,
  "kernelspec": {
   "display_name": "Python 3",
   "language": "python",
   "name": "python3"
  },
  "language_info": {
   "codemirror_mode": {
    "name": "ipython",
    "version": 3
   },
   "file_extension": ".py",
   "mimetype": "text/x-python",
   "name": "python",
   "nbconvert_exporter": "python",
   "pygments_lexer": "ipython3",
   "version": "3.6.6"
  }
 },
 "nbformat": 4,
 "nbformat_minor": 2
}
