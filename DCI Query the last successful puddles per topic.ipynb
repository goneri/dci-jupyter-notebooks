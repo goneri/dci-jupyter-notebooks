{
 "cells": [
  {
   "cell_type": "markdown",
   "metadata": {},
   "source": [
    "![title](https://docs.distributed-ci.io/logo.png)"
   ]
  },
  {
   "cell_type": "markdown",
   "metadata": {},
   "source": [
    "# How to request DCI through Python"
   ]
  },
  {
   "cell_type": "markdown",
   "metadata": {},
   "source": [
    "## Introduction\n",
    "\n",
    "DCI or Distributed CI is a continuous integration project that aims to bring external teams inside an existing CI\n",
    "framework. This by running CI on dedicated lab environments that are running in their data centers with their configurations and their applications.\n",
    "\n",
    "DCI is base on a client/server model. The remote labs are the clients, the server centralize the jobs and collects the results.\n",
    "\n",
    "The goal of this article is to give swift insight of how anyone can query the DCI control server.\n",
    "\n",
    "## Set up your environment\n",
    "\n",
    "We will use a Python virtual environment to install our DCI client library.\n",
    "\n",
    "    $ virtualenv ~/pyvenv\n",
    "    $ . ~/pyvenv/bin/activate\n",
    "    $ pip install dciclient\n",
    "\n",
    "You now need to load our dcirc file to be authenticated.\n",
    "\n",
    "    $ . dcirc.sh\n",
    "\n",
    "A simple way to validate everything is working properly is to list your remotecis:\n",
    "\n",
    "    $ dcictl remoteci-list\n",
    "\n",
    "\n",
    "Unless you get an error, everything is working fine."
   ]
  },
  {
   "cell_type": "markdown",
   "metadata": {},
   "source": [
    "## Our first  DCI query\n",
    "\n",
    "First some vocabulary! In DCI, a branch is a major version on which we will attach the components that we want to test. For instance, I want to test all the snapshot of RHEL7.5, RHEL7.5 is my branch, RHEL7.5-20180115 is my component.\n",
    "\n",
    "A job will be linked with a topic and one or more component.\n",
    "\n",
    "In this first example, I've got a list of topic and I would like to know what are the last components that have been associated with a successful job.\n",
    "\n",
    "So I declare my list of topics:"
   ]
  },
  {
   "cell_type": "code",
   "execution_count": null,
   "metadata": {},
   "outputs": [],
   "source": [
    "topics = ['OSP8', 'OSP9', 'OSP10', 'OSP11', 'OSP12']"
   ]
  },
  {
   "cell_type": "markdown",
   "metadata": {},
   "source": [
    "Now I need to create a DCI context. I load the api.context class and use the `build_dci_context()` to initialize a session based on my environment variables."
   ]
  },
  {
   "cell_type": "code",
   "execution_count": null,
   "metadata": {},
   "outputs": [],
   "source": [
    "import dciclient.v1.api.context as dci_context\n",
    "ctx = dci_context.build_dci_context()"
   ]
  },
  {
   "cell_type": "markdown",
   "metadata": {},
   "source": [
    "I know the name of the topics that I want to work with. But DCI will need their UUID. I create a light function that relies on `api.topic.list()` to find the correct topic and return."
   ]
  },
  {
   "cell_type": "code",
   "execution_count": null,
   "metadata": {},
   "outputs": [],
   "source": [
    "import dciclient.v1.api.topic as dci_topic\n",
    "def topic_id_by_name(ctx, name):\n",
    "    r = dci_topic.list(ctx, where='name:' + name, limit=1)\n",
    "    if not len(r.json()['topics']):\n",
    "        print('Topic %s not available.' % name)\n",
    "        exit(1)\n",
    "    return r.json()['topics'][0]['id']"
   ]
  },
  {
   "cell_type": "markdown",
   "metadata": {},
   "source": [
    "Now I know the `topic_id`, I will be able to request the DCI server.\n",
    "\n",
    "I want to filter the job list to unlike keep the ones linked to the\n",
    "topic so I add a where filter on the topic_id.\n",
    "\n",
    "I also would like to have some extra details about the associated\n",
    "components, not just their UUID. So I use the `embed` key to ask DCI to\n",
    "include the extra information for me.\n",
    "\n",
    "Finally I use a limit to reduce the amount of information that will be\n",
    "returned."
   ]
  },
  {
   "cell_type": "code",
   "execution_count": null,
   "metadata": {},
   "outputs": [],
   "source": [
    "import dciclient.v1.api.job as dci_job\n",
    "def last_passing_puddle(ctx, topic_id):\n",
    "    jobs = dci_job.iter(\n",
    "        ctx,\n",
    "        limit=100,\n",
    "        embed='components',\n",
    "        where='topic_id:' + topic_id)\n",
    "    for job in jobs:\n",
    "        if job['status'] == 'success':\n",
    "            return(job['components'][0]['name'])"
   ]
  },
  {
   "cell_type": "markdown",
   "metadata": {},
   "source": [
    "I've my data. I can prepare a data structure and generate a list."
   ]
  },
  {
   "cell_type": "code",
   "execution_count": null,
   "metadata": {},
   "outputs": [],
   "source": [
    "results = {}\n",
    "for topic in topics:\n",
    "    topic_id = topic_id_by_name(ctx, topic)\n",
    "    results[topic] = [last_passing_puddle(ctx, topic_id)]"
   ]
  },
  {
   "cell_type": "code",
   "execution_count": null,
   "metadata": {},
   "outputs": [],
   "source": [
    "import pandas as pd\n",
    "\n",
    "df = pd.DataFrame.from_dict(results, orient='index')\n",
    "df.dtypes\n",
    "df.columns = ['puddle']\n",
    "df.head()"
   ]
  },
  {
   "cell_type": "markdown",
   "metadata": {},
   "source": [
    "## Conclusion\n",
    "\n",
    "It's pretty easy to use Python to quickly query the DCI server. If you have any question or comment you can contact use on #distributed-ci on FreeNode.\n",
    "\n",
    "## References\n",
    "\n",
    "* Our documentation: https://docs.distributed-ci.io/\n",
    "* The OpenStack agent: http://github.com/redhat-cip/dci-ansible-agent\n",
    "* The Control Server https://github.com/redhat-cip/dci-control-server"
   ]
  }
 ],
 "metadata": {
  "hide_input": false,
  "kernelspec": {
   "display_name": "Python 3",
   "language": "python",
   "name": "python3"
  },
  "language_info": {
   "codemirror_mode": {
    "name": "ipython",
    "version": 3
   },
   "file_extension": ".py",
   "mimetype": "text/x-python",
   "name": "python",
   "nbconvert_exporter": "python",
   "pygments_lexer": "ipython3",
   "version": "3.6.6"
  }
 },
 "nbformat": 4,
 "nbformat_minor": 2
}
