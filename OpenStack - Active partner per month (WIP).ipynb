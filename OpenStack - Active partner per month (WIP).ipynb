{
 "cells": [
  {
   "cell_type": "code",
   "execution_count": null,
   "metadata": {},
   "outputs": [],
   "source": [
    "import dciclient.oo\n",
    "from datetime import datetime\n",
    "client = dciclient.oo.DCIClient()"
   ]
  },
  {
   "cell_type": "code",
   "execution_count": null,
   "metadata": {},
   "outputs": [],
   "source": [
    "openstack_team = client.teams.first(where='name:OpenStack')"
   ]
  },
  {
   "cell_type": "code",
   "execution_count": null,
   "metadata": {},
   "outputs": [],
   "source": [
    "import pandas as pd\n",
    "datelist = pd.date_range(start='2016/01/01', end=pd.datetime.today(), freq='M').tolist()\n",
    "\n",
    "month_idx = 0\n",
    "\n",
    "teams = {}\n",
    "\n",
    "for job in client.jobs.list(sort=\"created_at\", where='status:success'):\n",
    "    if openstack_team.id() != job.team.parent_id():\n",
    "        continue\n",
    "    if not job.status != 'success':\n",
    "        continue\n",
    "    if not job.topic.name().startswith('OSP'):\n",
    "        continue\n",
    "    if job.team.external() is False:\n",
    "        continue\n",
    "    if job.team.name() not in teams:\n",
    "        teams[job.team.name()] = [0 for _ in datelist]\n",
    "\n",
    "    try:\n",
    "        while not (\n",
    "                datelist[month_idx:][0].year == job.created_at().year and \n",
    "                datelist[month_idx:][0].month == job.created_at().month):\n",
    "            month_idx += 1\n",
    "        teams[job.team.name()][month_idx] += 1\n",
    "    except IndexError: # TODO: to remove\n",
    "        pass"
   ]
  },
  {
   "cell_type": "code",
   "execution_count": null,
   "metadata": {},
   "outputs": [],
   "source": [
    "%matplotlib notebook\n",
    "import matplotlib.pyplot as plt\n",
    "plt.figure(figsize=(9,9))\n",
    "for team in teams:\n",
    "    plt.plot_date(datelist, teams[team], '.-', label=team)\n",
    "plt.xlabel('Month')\n",
    "plt.ylabel('Number of successful runs')\n",
    "plt.title('DCI runs per month')\n",
    "plt.legend()\n",
    "plt.show()"
   ]
  },
  {
   "cell_type": "code",
   "execution_count": null,
   "metadata": {},
   "outputs": [],
   "source": []
  }
 ],
 "metadata": {
  "hide_input": false,
  "kernelspec": {
   "display_name": "Python 3",
   "language": "python",
   "name": "python3"
  },
  "language_info": {
   "codemirror_mode": {
    "name": "ipython",
    "version": 3
   },
   "file_extension": ".py",
   "mimetype": "text/x-python",
   "name": "python",
   "nbconvert_exporter": "python",
   "pygments_lexer": "ipython3",
   "version": "3.6.6"
  }
 },
 "nbformat": 4,
 "nbformat_minor": 2
}
